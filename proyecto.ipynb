{
 "cells": [
  {
   "cell_type": "markdown",
   "metadata": {},
   "source": [
    "# Proyecto 1 - Cinemática"
   ]
  },
  {
   "cell_type": "code",
   "execution_count": 4,
   "metadata": {},
   "outputs": [],
   "source": [
    "import matplotlib.pyplot as plt\n",
    "import numpy as np\n",
    "import math"
   ]
  },
  {
   "cell_type": "markdown",
   "metadata": {},
   "source": [
    "Para este proyecto se nos fueron dadas las siguientes ecuaciones:\n",
    "\n"
   ]
  },
  {
   "cell_type": "markdown",
   "metadata": {},
   "source": [
    "$$\n",
    "y(t) = y_0 + v_{y_0} t + \\frac{at²}{2}\n",
    "$$\n",
    "\n",
    "Esta ecuación describe la evolución de la altura, \"$y$\", de una partícula en cualquier tiempo $t$ luego de estar en cierto \"estado inicial\" ($y_0$, $v_{y_0}$) en el tiempo $t = 0$.\n",
    "\n",
    "Esta otra ecuación describe el movimiento horizonal:\n",
    "\n",
    "$$\n",
    "x(t) = x_0 + v_{x_0} t\n",
    "$$\n",
    "\n",
    "Para juntar ambas ecuaciones definimos un objeto $\\vec{r}$ como un vector $\\vec{r}(t) = (x(t), y(t))$ en todo tiempo $t$. Es decir, una función vectorial. En este caso, el estado inicial se resume también como vectores:\n",
    "* Posición inicial: $r_0 = (x_0, y_0)$\n",
    "* Velocidad inicial: $v_0 = (v_{x_0}, v_{y_0})$\n",
    "* Estado total inicial: $(r_0, v_0)$\n",
    "\n",
    "\n",
    "1. Creamos funciones para todos los objetos fundamentales: $x(t)$, $y(t)$, $\\vec{r}(t)$:"
   ]
  },
  {
   "cell_type": "code",
   "execution_count": 39,
   "metadata": {},
   "outputs": [],
   "source": [
    "def y_tiempo(y0, vy0, t, a = 9.8):\n",
    "    result = y0 + vy0*t + (-a*t**2)/2\n",
    "    return result"
   ]
  },
  {
   "cell_type": "code",
   "execution_count": 29,
   "metadata": {},
   "outputs": [],
   "source": [
    "def x_tiempo(x0, vx0, t):\n",
    "    result = x0 + vx0*t\n",
    "    return result"
   ]
  },
  {
   "cell_type": "code",
   "execution_count": 30,
   "metadata": {},
   "outputs": [],
   "source": [
    "def trayectoria(x0, y0, vx0, vy0, t, a = -9.8):\n",
    "    y = y_tiempo(y0, vy0, t, a)\n",
    "    x = x_tiempo(x0, vx0, t)\n",
    "    return(x,y)"
   ]
  },
  {
   "cell_type": "markdown",
   "metadata": {},
   "source": [
    "2. Crear alguna función que responda la siguiente pregunta:\n",
    "   * Si conoce el punto y tiempo de disparo del proyectil y punto y tiempo de caída al suelo, ¿Puede encontrar la velocidad inicial $v_0 = (v_{x_0}, v_{y_0})$ con la cual fue disparado? Si es así, programelo. Si no, indique lo que hace falta, y utilícelo para un programa que lo calcule.\n",
    "  \n",
    "  \n",
    "Para poder calcular la velocidad inicial, con los datos que contamos obtendriamos la velocidad inicial en $y(v_{y_0})$, ya que si contamos con el alcance y un tiempo de caída también tenemos la velocidad inical en $x(v_{x_0})$ y a partir de estos dos datos podemos relacionarlos para encontrar el ángulo en el que el proyectil fue lanzado y finalmente encontrar la $v_0$ a partir de cualquiera de los componentes.\n",
    "\n",
    "Recordemos que el tiempo de vuelo es dos veces el tiempo de caída: $tv=2*tc$\n",
    "\n",
    "Las componentes en $\"x\"$ y $\"y\"$ son $v_{x_0}=v0*cos\\theta$, $v_{y_0}=v0*sen\\theta$ respectivamente.\n",
    "\n",
    "Entonces:\n",
    "\n"
   ]
  },
  {
   "cell_type": "code",
   "execution_count": 46,
   "metadata": {},
   "outputs": [],
   "source": [
    "def comp_x(x_t,x0, tv):\n",
    "    result = (x_t-x0)/tv\n",
    "    return result"
   ]
  },
  {
   "cell_type": "code",
   "execution_count": 47,
   "metadata": {},
   "outputs": [],
   "source": [
    "def comp_y(tc,a=9.8):\n",
    "    result=tc*a\n",
    "    return result"
   ]
  },
  {
   "cell_type": "code",
   "execution_count": 48,
   "metadata": {},
   "outputs": [],
   "source": [
    "def angle(v0x,v0y):\n",
    "    result=math.atan(v0y/v0x) * (180/math.pi)\n",
    "    return result"
   ]
  },
  {
   "cell_type": "code",
   "execution_count": 49,
   "metadata": {},
   "outputs": [],
   "source": [
    "def velo_ini(v0x,angle):\n",
    "    result=v0x/math.cos(angle* (math.pi)/180)\n",
    "    return result"
   ]
  },
  {
   "cell_type": "markdown",
   "metadata": {},
   "source": [
    "**Ejemplo:**\n",
    "\n",
    "Un proyectil, que es disparado por un cañón logra un alcance máximo horizontal de 31.81m con un tiempo de vuelo de 3.32s. Determinar: \n",
    "\n",
    "**(a)** El ángulo de disparo\n",
    "\n",
    "**(b)** La velocidad inicial del proyectil\n",
    "\n",
    "**(c)** La altura máxima que alcanza el proyectil. Grafique la trayectoria de la componente \"y\" en el tiempo."
   ]
  },
  {
   "cell_type": "markdown",
   "metadata": {},
   "source": [
    "* Calculamos las componentes en $\"x\"$ y $\"y\"$.\n",
    "\n",
    "    El tiempo de caída es: tc=3.32s/2= 1.66s"
   ]
  },
  {
   "cell_type": "code",
   "execution_count": 24,
   "metadata": {},
   "outputs": [
    {
     "data": {
      "text/plain": [
       "9.581325301204819"
      ]
     },
     "execution_count": 24,
     "metadata": {},
     "output_type": "execute_result"
    }
   ],
   "source": [
    "comp_x(31.81,0,3.32)"
   ]
  },
  {
   "cell_type": "code",
   "execution_count": 23,
   "metadata": {},
   "outputs": [
    {
     "data": {
      "text/plain": [
       "16.268"
      ]
     },
     "execution_count": 23,
     "metadata": {},
     "output_type": "execute_result"
    }
   ],
   "source": [
    "comp_y(1.66)"
   ]
  },
  {
   "cell_type": "markdown",
   "metadata": {},
   "source": [
    "* Encontramos nuestro ángulo de disparo"
   ]
  },
  {
   "cell_type": "code",
   "execution_count": 21,
   "metadata": {},
   "outputs": [
    {
     "data": {
      "text/plain": [
       "59.509837544736314"
      ]
     },
     "execution_count": 21,
     "metadata": {},
     "output_type": "execute_result"
    }
   ],
   "source": [
    "angle(9.58,16.27)"
   ]
  },
  {
   "cell_type": "markdown",
   "metadata": {},
   "source": [
    "* Encontramos nuestra velocidad inicial, haciendo uso de cualquiera de las componentes y el ángulo encontrado"
   ]
  },
  {
   "cell_type": "code",
   "execution_count": 25,
   "metadata": {},
   "outputs": [
    {
     "data": {
      "text/plain": [
       "18.88101515574257"
      ]
     },
     "execution_count": 25,
     "metadata": {},
     "output_type": "execute_result"
    }
   ],
   "source": [
    "velo_ini(9.58,59.51)"
   ]
  },
  {
   "cell_type": "markdown",
   "metadata": {},
   "source": [
    "* Finalmente encontramos la altura máxima que alcanza el proyectil\n",
    "\n",
    "Podemos encontrarla de dos formas:\n",
    "1. Calculando el tiempo de caída\n",
    "2. $ymáx=(vy^2-v_{y0}^2)/2*g$ donde $vy=0$ en el punto máximo\n"
   ]
  },
  {
   "cell_type": "code",
   "execution_count": 74,
   "metadata": {},
   "outputs": [
    {
     "data": {
      "text/plain": [
       "13.505759999999999"
      ]
     },
     "execution_count": 74,
     "metadata": {},
     "output_type": "execute_result"
    }
   ],
   "source": [
    "y_tiempo(0,16.27,1.66)"
   ]
  },
  {
   "cell_type": "code",
   "execution_count": 91,
   "metadata": {},
   "outputs": [],
   "source": [
    "def y_max(vy,vy0,a=-9.8):\n",
    "    result=(vy**2-vy0**2)/(2*a)\n",
    "    return result"
   ]
  },
  {
   "cell_type": "code",
   "execution_count": 92,
   "metadata": {},
   "outputs": [
    {
     "data": {
      "text/plain": [
       "13.505760204081632"
      ]
     },
     "execution_count": 92,
     "metadata": {},
     "output_type": "execute_result"
    }
   ],
   "source": [
    "y_max(0,16.27)"
   ]
  },
  {
   "cell_type": "markdown",
   "metadata": {},
   "source": [
    "* Graficamos"
   ]
  },
  {
   "cell_type": "code",
   "execution_count": 57,
   "metadata": {},
   "outputs": [
    {
     "name": "stdout",
     "output_type": "stream",
     "text": [
      "[0.0, 1.578, 3.058, 4.44, 5.724, 6.91, 7.997999999999999, 8.988, 9.879999999999999, 10.674, 11.37, 11.968, 12.467999999999998, 12.87, 13.174, 13.38, 13.487999999999996, 13.498, 13.409999999999998, 13.223999999999997, 12.939999999999998, 12.558, 12.078, 11.5, 10.823999999999991, 10.049999999999994, 9.177999999999997, 8.207999999999998, 7.1399999999999935, 5.973999999999997, 4.710000000000001, 3.3479999999999848, 1.887999999999984, 0.3299999999999841]\n"
     ]
    }
   ],
   "source": [
    "t = np.arange(0,3.32,0.1)\n",
    "y = list(map(lambda t: y_tiempo(0,16.27, t), t))\n",
    "print(y)"
   ]
  },
  {
   "cell_type": "code",
   "execution_count": 56,
   "metadata": {},
   "outputs": [
    {
     "data": {
      "image/png": "[encoded data removed]",
      "text/plain": [
       "<Figure size 432x288 with 1 Axes>"
      ]
     },
     "metadata": {
      "needs_background": "light"
     },
     "output_type": "display_data"
    }
   ],
   "source": [
    "%matplotlib inline\n",
    "plt.plot(t, y)\n",
    "plt.title(\"Trayectoria de la componente y en el tiempo\")\n",
    "plt.xlabel(\"Tiempo (s)\")\n",
    "plt.ylabel(\"Altura (m)\")\n",
    "plt.show()"
   ]
  }
 ],
 "metadata": {
  "kernelspec": {
   "display_name": "Python 3",
   "language": "python",
   "name": "python3"
  },
  "language_info": {
   "codemirror_mode": {
    "name": "ipython",
    "version": 3
   },
   "file_extension": ".py",
   "mimetype": "text/x-python",
   "name": "python",
   "nbconvert_exporter": "python",
   "pygments_lexer": "ipython3",
   "version": "3.8.3"
  }
 },
 "nbformat": 4,
 "nbformat_minor": 4
}
